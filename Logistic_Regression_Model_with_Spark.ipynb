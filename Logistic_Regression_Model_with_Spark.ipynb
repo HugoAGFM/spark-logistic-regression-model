{
  "cells": [
    {
      "cell_type": "markdown",
      "metadata": {
        "id": "view-in-github",
        "colab_type": "text"
      },
      "source": [
        "<a href=\"https://colab.research.google.com/github/HugoAGFM/spark-logistic-regression-model/blob/main/Logistic_Regression_Model_with_Spark.ipynb\" target=\"_parent\"><img src=\"https://colab.research.google.com/assets/colab-badge.svg\" alt=\"Open In Colab\"/></a>"
      ]
    },
    {
      "cell_type": "markdown",
      "metadata": {
        "id": "9Lbsq5LjwEJz"
      },
      "source": [
        "# Brazil Highway Traffic Accidents Classification Model Using Spark"
      ]
    },
    {
      "cell_type": "markdown",
      "metadata": {
        "id": "rtipaGa2wRTW"
      },
      "source": [
        "## Introduction\n",
        "\n",
        "This work proposes to create a classification model over a dataset containing Brazil highway traffic accidents data using Apache Spark. The model intends to predict if a person involved in an accident survived or not. This is a continuation of a [data analysis using Apache Spark](https://colab.research.google.com/drive/16KNODsD_wrWP8vZKynHybvHcFI-WvJ-_#scrollTo=j-YYFzW-1Ez3)."
      ]
    },
    {
      "cell_type": "markdown",
      "metadata": {
        "id": "856yobxew8sN"
      },
      "source": [
        "## About Dataset\n",
        "\n",
        "The dataset under analysis is available in [kaggle](https://www.kaggle.com/datasets/mcamera/brazil-highway-traffic-accidents) and contains data from Brazil's federal higways between 2007 and 2021 at various levels of granularity.\n",
        "\n",
        "The level of granularity chosen was 'accidents per person', and, because there's been  a change in the system used to record these data in 2017, this analysis will be restricted to the period of 2017 to 2021. The files are available [here](https://drive.google.com/drive/u/0/folders/1ue0XT3qt7dknBmV_oykird_6O2Rld723)\n"
      ]
    },
    {
      "cell_type": "markdown",
      "metadata": {
        "id": "kK7KKutgxATT"
      },
      "source": [
        "### Columns description\n",
        "\n",
        "Below you can find the columns present in the dataset with a brief description, and how they've been mapped to each table in the data model.\n",
        "\n",
        "| Coloumn                | Description                                                 | Table             |\n",
        "| :--------------------- | :---------------------------------------------------------- | :---------------- |\n",
        "| id                     | ID of accident                                              | Accidents         |\n",
        "| data_inversa           | Date when accident hapened                                  | Accidents         |\n",
        "| dia_semana             | Weekday when accident happened                              | Accidents         |\n",
        "| horario                | Time when accident happened                                 | Accidents         |\n",
        "| uf                     | Federal Unit where accident happened                        | Accidents         |\n",
        "| br                     | Highway where accident happened                             | Accidents         |\n",
        "| km                     | Highway kilometer where accident happened                  | Accidents         |\n",
        "| municipio              | City where accident happened                                | Accidents         |\n",
        "| causa_acidente         | Accident cause                                              | Accidents         |\n",
        "| tipo_acidente          | Accident type                                               | Accidents         |\n",
        "| classificacao_acidente | Accident classification                                     | Accidents         |\n",
        "| fase_dia               | Pereiod of the day when  accident happened                  | Accidents         |\n",
        "| sentido_via            | Lane direction where accident happened                      | Accidents         |\n",
        "| condicao_metereologica | Weather condition when accident happened                    | Accidents         |\n",
        "| tipo_pista             | Lane type where accident happened                           | Accidents         |\n",
        "| tracado_via            | Lane layout where accident happened                         | Accidents         |\n",
        "| uso_solo               | If the vehicle left the lane in the accident                                   | Accidents         |\n",
        "| id_veiculo             | ID of vehicle involved in the accident                      | Accidents/Vehicle |\n",
        "| tipo_veiculo           | Type of the vehicle involved in the accident                | Vehicle           |\n",
        "| marca                  | Brand of the vehicle involved in the accident               | Vehicle           |\n",
        "| ano_fabricacao_veiculo | Year of manufacture of the vehicle involved in the accident | Vehicle           |\n",
        "| pesid                  | ID of person involved in the accident                       | Accidents/People  |\n",
        "| tipo_envolvido         | Type of person involved in the accident                     | People            |\n",
        "| estado_fisico          | Physical state of the person involved in the accident       | People            |\n",
        "| idade                  | Age of the person involved in the accident                  | People            |\n",
        "| sexo                   | Sex of the person involved in the accident                  | People            |"
      ]
    },
    {
      "cell_type": "markdown",
      "metadata": {
        "id": "hK4sT7akxFz-"
      },
      "source": [
        "### Data model\n",
        "\n",
        "For the purpose of this work and following the instructions of the professor, the dataset was denormalized and modeled as three different tables as described below.\n",
        "\n",
        "| Table     | Description                                                                                                             |\n",
        "| :-------- | :---------------------------------------------------------------------------------------------------------------------- |\n",
        "| Accidents | Accidents records. Relates to table People through column 'pesid', and with table Vehicles through column 'id_veiculo'. |\n",
        "| People    | Information about the people involved in the accidents. Relates to the table Accidents through column 'pesid'.           |\n",
        "| Vehicles  | Information about the veicles involved in the accidents. Relates to the table Accidents thorugh column 'id_veiculo'.                                                |"
      ]
    },
    {
      "cell_type": "markdown",
      "metadata": {
        "id": "cwxsQ0gXxJe9"
      },
      "source": [
        "\n",
        "## Preparing Environment\n",
        "\n",
        "This session contains all the steps taken to prepare the analytical environment."
      ]
    },
    {
      "cell_type": "markdown",
      "metadata": {
        "id": "Wv1W5zuTxMvF"
      },
      "source": [
        "### Install pyspark"
      ]
    },
    {
      "cell_type": "code",
      "execution_count": null,
      "metadata": {
        "colab": {
          "base_uri": "https://localhost:8080/"
        },
        "id": "E8ERz2f7ppTb",
        "outputId": "73583391-616f-46d0-93e6-b7dbd086c665"
      },
      "outputs": [
        {
          "name": "stdout",
          "output_type": "stream",
          "text": [
            "Collecting pyspark\n",
            "  Downloading pyspark-3.5.0.tar.gz (316.9 MB)\n",
            "\u001b[2K     \u001b[90m━━━━━━━━━━━━━━━━━━━━━━━━━━━━━━━━━━━━━━━\u001b[0m \u001b[32m316.9/316.9 MB\u001b[0m \u001b[31m3.6 MB/s\u001b[0m eta \u001b[36m0:00:00\u001b[0m\n",
            "\u001b[?25h  Preparing metadata (setup.py) ... \u001b[?25l\u001b[?25hdone\n",
            "Requirement already satisfied: py4j==0.10.9.7 in /usr/local/lib/python3.10/dist-packages (from pyspark) (0.10.9.7)\n",
            "Building wheels for collected packages: pyspark\n",
            "  Building wheel for pyspark (setup.py) ... \u001b[?25l\u001b[?25hdone\n",
            "  Created wheel for pyspark: filename=pyspark-3.5.0-py2.py3-none-any.whl size=317425344 sha256=dae8c4c08864dd8b688943b60cbeef5368090ba25102246a7e3f6729065b0878\n",
            "  Stored in directory: /root/.cache/pip/wheels/41/4e/10/c2cf2467f71c678cfc8a6b9ac9241e5e44a01940da8fbb17fc\n",
            "Successfully built pyspark\n",
            "Installing collected packages: pyspark\n",
            "Successfully installed pyspark-3.5.0\n"
          ]
        }
      ],
      "source": [
        "!pip install pyspark"
      ]
    },
    {
      "cell_type": "markdown",
      "metadata": {
        "id": "k8h_qIl4xQjb"
      },
      "source": [
        "### Mount Google Drive into Google Colab machine"
      ]
    },
    {
      "cell_type": "code",
      "execution_count": null,
      "metadata": {
        "colab": {
          "base_uri": "https://localhost:8080/"
        },
        "id": "WV6hA5Alpva8",
        "outputId": "280298b6-dd00-452d-851f-04d03b5468e4"
      },
      "outputs": [
        {
          "name": "stdout",
          "output_type": "stream",
          "text": [
            "Mounted at /content/drive\n"
          ]
        }
      ],
      "source": [
        "from google.colab import drive\n",
        "drive.mount('/content/drive')"
      ]
    },
    {
      "cell_type": "markdown",
      "metadata": {
        "id": "PC-TMdnqxVpI"
      },
      "source": [
        "### Import and instanciate Spark Session\n",
        "\n",
        "Spark Session consists of the entrypoint for the Spark SQL API. This work will run in a local environment."
      ]
    },
    {
      "cell_type": "code",
      "execution_count": null,
      "metadata": {
        "id": "xLksEeRZp3I8"
      },
      "outputs": [],
      "source": [
        "from pyspark.sql import SparkSession"
      ]
    },
    {
      "cell_type": "code",
      "execution_count": null,
      "metadata": {
        "id": "D_j_3mDzp5ws"
      },
      "outputs": [],
      "source": [
        "spark = SparkSession \\\n",
        "    .builder \\\n",
        "    .master(\"local[*]\") \\\n",
        "    .getOrCreate()"
      ]
    },
    {
      "cell_type": "markdown",
      "metadata": {
        "id": "cdirphxNxgQ2"
      },
      "source": [
        "## Exploring Dataset\n",
        "This section intends to explore the datasets' attributes to better clean it and select the appropriate features."
      ]
    },
    {
      "cell_type": "code",
      "execution_count": null,
      "metadata": {
        "id": "tCZYhTXsp71V"
      },
      "outputs": [],
      "source": [
        "df_people = spark.read \\\n",
        "  .options(delimiter=\";\") \\\n",
        "  .csv(\"/content/drive/MyDrive/traffic/people.csv\",\n",
        "       inferSchema=True,\n",
        "       header=True,\n",
        "       encoding=\"Latin1\")\n",
        "\n",
        "df_accidents = spark.read \\\n",
        "  .options(delimiter=\";\") \\\n",
        "  .csv(\"/content/drive/MyDrive/traffic/accidents.csv\",\n",
        "       inferSchema=True,\n",
        "       header=True,\n",
        "       encoding=\"Latin1\")\n",
        "\n",
        "df_vehicles = spark.read \\\n",
        "  .options(delimiter=\";\") \\\n",
        "  .csv(\"/content/drive/MyDrive/traffic/vehicles.csv\",\n",
        "       inferSchema=True,\n",
        "       header=True,\n",
        "       encoding=\"Latin1\")"
      ]
    },
    {
      "cell_type": "markdown",
      "metadata": {
        "id": "49ZRN45dZupB"
      },
      "source": [
        "### Evaluating people dataframe\n",
        "\n",
        "- \"tipo_envolvido\" equal to \"Testemunha\" is going to be excluded from the dataset, becuase these people are not actually involved in the accident;\n",
        "- \"tipo_envolvido\" equal to \"Não Informado\" is going to be excluded from the dataset, because it represents lack of information;\n",
        "- \"tipo_envolvido\" equal to \"Cavaleiro\" is going to be excluded from the dataset, because of the low number of occurences;\n",
        "- \"estado_fisico\" equal to \"Não Infromado\" is going to be excluded from the dataset, because it represents lack of information."
      ]
    },
    {
      "cell_type": "code",
      "execution_count": null,
      "metadata": {
        "colab": {
          "base_uri": "https://localhost:8080/"
        },
        "id": "nepv2hXwYFyx",
        "outputId": "f6681d81-a8bb-425f-a2e4-e41655f96598"
      },
      "outputs": [
        {
          "output_type": "stream",
          "name": "stdout",
          "text": [
            "root\n",
            " |-- pesid: integer (nullable = true)\n",
            " |-- tipo_envolvido: string (nullable = true)\n",
            " |-- estado_fisico: string (nullable = true)\n",
            " |-- idade: double (nullable = true)\n",
            " |-- sexo: string (nullable = true)\n",
            "\n"
          ]
        }
      ],
      "source": [
        "df_people.printSchema()"
      ]
    },
    {
      "cell_type": "code",
      "execution_count": null,
      "metadata": {
        "colab": {
          "base_uri": "https://localhost:8080/"
        },
        "id": "7Bg81S7sYH-9",
        "outputId": "ac897c0d-20a2-4e4c-90b9-9e34e1a5484d"
      },
      "outputs": [
        {
          "output_type": "stream",
          "name": "stdout",
          "text": [
            "+--------------+------+\n",
            "|tipo_envolvido| count|\n",
            "+--------------+------+\n",
            "| Não Informado|     1|\n",
            "|    Passageiro|192952|\n",
            "|    Testemunha| 15057|\n",
            "|      Pedestre| 16005|\n",
            "|      Condutor|525851|\n",
            "|     Cavaleiro|   178|\n",
            "+--------------+------+\n",
            "\n"
          ]
        }
      ],
      "source": [
        "df_people.groupBy(\"tipo_envolvido\").count().show()"
      ]
    },
    {
      "cell_type": "code",
      "execution_count": null,
      "metadata": {
        "colab": {
          "base_uri": "https://localhost:8080/"
        },
        "id": "TDO2L8uTZbOI",
        "outputId": "20bffdde-1537-4065-efd3-2df60478fa02"
      },
      "outputs": [
        {
          "output_type": "stream",
          "name": "stdout",
          "text": [
            "+-------------+------+\n",
            "|estado_fisico| count|\n",
            "+-------------+------+\n",
            "|        Ileso|336312|\n",
            "|Não Informado| 43577|\n",
            "| Lesões Leves|265215|\n",
            "|        Óbito| 24610|\n",
            "|Lesões Graves| 80330|\n",
            "+-------------+------+\n",
            "\n"
          ]
        }
      ],
      "source": [
        "df_people.groupby(\"estado_fisico\").count().show()"
      ]
    },
    {
      "cell_type": "markdown",
      "metadata": {
        "id": "HkDTJ5hzZzJD"
      },
      "source": [
        "### Evaluating vehicles dataframe\n",
        "\n",
        "\n",
        "- \"tipo_veiculo\" with less than 1000 occurences will be excluded from the dataset to streamline the model."
      ]
    },
    {
      "cell_type": "code",
      "execution_count": null,
      "metadata": {
        "colab": {
          "base_uri": "https://localhost:8080/"
        },
        "id": "eS3tD3MqYTCh",
        "outputId": "447e8382-e12a-4538-ed91-7ecb812a4482"
      },
      "outputs": [
        {
          "output_type": "stream",
          "name": "stdout",
          "text": [
            "root\n",
            " |-- id_veiculo: integer (nullable = true)\n",
            " |-- tipo_veiculo: string (nullable = true)\n",
            " |-- marca: string (nullable = true)\n",
            " |-- ano_fabricacao_veiculo: integer (nullable = true)\n",
            "\n"
          ]
        }
      ],
      "source": [
        "df_vehicles.printSchema()"
      ]
    },
    {
      "cell_type": "code",
      "execution_count": null,
      "metadata": {
        "colab": {
          "base_uri": "https://localhost:8080/"
        },
        "id": "wRmHgz8bY_yZ",
        "outputId": "d754b8be-e485-405f-f7a2-65a32dd58925"
      },
      "outputs": [
        {
          "output_type": "stream",
          "name": "stdout",
          "text": [
            "+-----------------+------+\n",
            "|     tipo_veiculo| count|\n",
            "+-----------------+------+\n",
            "|        Automóvel|216775|\n",
            "|      Motocicleta|107285|\n",
            "|  Caminhão-trator| 55106|\n",
            "|      Caminhonete| 46863|\n",
            "|         Caminhão| 44957|\n",
            "|         Motoneta| 12580|\n",
            "|        Camioneta| 12222|\n",
            "|        Bicicleta|  8787|\n",
            "|           Ônibus|  8081|\n",
            "|       Utilitário|  5420|\n",
            "|     Micro-ônibus|  2509|\n",
            "|           Outros|  2069|\n",
            "|       Ciclomotor|  1661|\n",
            "|      Semireboque|  1057|\n",
            "|  Trator de rodas|   289|\n",
            "| Carroça-charrete|   258|\n",
            "|          Reboque|   180|\n",
            "|         Triciclo|    63|\n",
            "|    Não Informado|    53|\n",
            "|       Trem-bonde|    28|\n",
            "|     Carro de mão|    26|\n",
            "|     Trator misto|    14|\n",
            "|Trator de esteira|    11|\n",
            "|Chassi-plataforma|     9|\n",
            "|      Quadriciclo|     9|\n",
            "+-----------------+------+\n",
            "\n"
          ]
        }
      ],
      "source": [
        "df_vehicles.groupBy(\"tipo_veiculo\").count().orderBy(\"count\", ascending=False).show(50)"
      ]
    },
    {
      "cell_type": "markdown",
      "metadata": {
        "id": "blEamsjZZ3JC"
      },
      "source": [
        "### Evaluating accidents dataframe"
      ]
    },
    {
      "cell_type": "code",
      "execution_count": null,
      "metadata": {
        "colab": {
          "base_uri": "https://localhost:8080/"
        },
        "id": "MSsdFIlcZM9i",
        "outputId": "97d43b25-025a-446d-aec5-6e85c9004f01"
      },
      "outputs": [
        {
          "output_type": "stream",
          "name": "stdout",
          "text": [
            "root\n",
            " |-- id: integer (nullable = true)\n",
            " |-- data_inversa: date (nullable = true)\n",
            " |-- dia_semana: string (nullable = true)\n",
            " |-- horario: timestamp (nullable = true)\n",
            " |-- uf: string (nullable = true)\n",
            " |-- br: integer (nullable = true)\n",
            " |-- km: double (nullable = true)\n",
            " |-- municipio: string (nullable = true)\n",
            " |-- causa_acidente: string (nullable = true)\n",
            " |-- tipo_acidente: string (nullable = true)\n",
            " |-- classificacao_acidente: string (nullable = true)\n",
            " |-- fase_dia: string (nullable = true)\n",
            " |-- sentido_via: string (nullable = true)\n",
            " |-- condicao_metereologica: string (nullable = true)\n",
            " |-- tipo_pista: string (nullable = true)\n",
            " |-- tracado_via: string (nullable = true)\n",
            " |-- uso_solo: string (nullable = true)\n",
            " |-- pesid: integer (nullable = true)\n",
            " |-- id_veiculo: integer (nullable = true)\n",
            "\n"
          ]
        }
      ],
      "source": [
        "df_accidents.printSchema()"
      ]
    },
    {
      "cell_type": "code",
      "execution_count": null,
      "metadata": {
        "colab": {
          "base_uri": "https://localhost:8080/"
        },
        "id": "SCvZ_OtiaMtm",
        "outputId": "33b101f5-a63e-4c13-9475-4e4d05918048"
      },
      "outputs": [
        {
          "output_type": "stream",
          "name": "stdout",
          "text": [
            "+-------------------------------+------+\n",
            "|tipo_acidente                  |count |\n",
            "+-------------------------------+------+\n",
            "|Colisão traseira               |170455|\n",
            "|Colisão transversal            |105800|\n",
            "|Colisão lateral                |95430 |\n",
            "|Saída de leito carroçável      |95371 |\n",
            "|Colisão frontal                |69618 |\n",
            "|Colisão com objeto estático    |36829 |\n",
            "|Tombamento                     |36226 |\n",
            "|Atropelamento de Pedestre      |34997 |\n",
            "|Capotamento                    |25453 |\n",
            "|Engavetamento                  |21940 |\n",
            "|Queda de ocupante de veículo   |20305 |\n",
            "|Atropelamento de Animal        |10850 |\n",
            "|Incêndio                       |6531  |\n",
            "|Colisão lateral mesmo sentido  |6290  |\n",
            "|Colisão com objeto             |4112  |\n",
            "|Colisão com objeto em movimento|3892  |\n",
            "|Colisão lateral sentido oposto |2177  |\n",
            "|Danos eventuais                |1816  |\n",
            "|Derramamento de carga          |1705  |\n",
            "|Eventos atípicos               |251   |\n",
            "+-------------------------------+------+\n",
            "\n"
          ]
        }
      ],
      "source": [
        "df_accidents.groupBy(\"tipo_acidente\").count().orderBy(\"count\", ascending=False).show(truncate=False)"
      ]
    },
    {
      "cell_type": "code",
      "execution_count": null,
      "metadata": {
        "colab": {
          "base_uri": "https://localhost:8080/"
        },
        "id": "Ms1o1Q0dat5I",
        "outputId": "c5f77206-9350-47b5-8166-764b93af7c79"
      },
      "outputs": [
        {
          "output_type": "stream",
          "name": "stdout",
          "text": [
            "+---+------+\n",
            "| uf| count|\n",
            "+---+------+\n",
            "| MG|100693|\n",
            "| SC| 87199|\n",
            "| PR| 84137|\n",
            "| RS| 52429|\n",
            "| RJ| 49858|\n",
            "| SP| 47779|\n",
            "| BA| 41653|\n",
            "| GO| 37623|\n",
            "| PE| 29409|\n",
            "| ES| 28207|\n",
            "| MT| 25853|\n",
            "| CE| 17964|\n",
            "| RO| 17830|\n",
            "| MS| 17200|\n",
            "| PB| 16383|\n",
            "| RN| 14380|\n",
            "| PI| 14081|\n",
            "| MA| 14081|\n",
            "| PA| 12424|\n",
            "| DF| 11239|\n",
            "| AL|  7228|\n",
            "| TO|  6718|\n",
            "| SE|  6432|\n",
            "| AC|  2964|\n",
            "| RR|  2913|\n",
            "| AP|  1925|\n",
            "| AM|  1446|\n",
            "+---+------+\n",
            "\n"
          ]
        }
      ],
      "source": [
        "df_accidents.groupBy(\"uf\").count().orderBy(\"count\", ascending=False).show(27)"
      ]
    },
    {
      "cell_type": "code",
      "execution_count": null,
      "metadata": {
        "colab": {
          "base_uri": "https://localhost:8080/"
        },
        "id": "NgRLyVG5a4CM",
        "outputId": "37276724-aa57-4965-de78-01c3ab452f3c"
      },
      "outputs": [
        {
          "output_type": "stream",
          "name": "stdout",
          "text": [
            "+-----------+------+\n",
            "|   fase_dia| count|\n",
            "+-----------+------+\n",
            "|  Pleno dia|417930|\n",
            "|Plena Noite|253485|\n",
            "|  Anoitecer| 43797|\n",
            "|  Amanhecer| 34836|\n",
            "+-----------+------+\n",
            "\n"
          ]
        }
      ],
      "source": [
        "df_accidents.groupBy(\"fase_dia\").count().show()"
      ]
    },
    {
      "cell_type": "markdown",
      "metadata": {
        "id": "fqJy9kZOceJo"
      },
      "source": [
        "## Preparing dataset\n",
        "\n",
        "This section intends to prepare the dataset to feed the Logistic Regression model."
      ]
    },
    {
      "cell_type": "markdown",
      "metadata": {
        "id": "R89sH_wo5WLb"
      },
      "source": [
        "### Cleaning Datset\n",
        "\n",
        "The columns selected to be features are following the conclusions from the [data analysis](https://colab.research.google.com/drive/16KNODsD_wrWP8vZKynHybvHcFI-WvJ-_#scrollTo=nvuNrBmC6WK9), under the \"Extended Data Analysis\" section, combined with different attemps of running the model until reaching the best indicators.\n",
        "\n",
        "Beyond that, the filters applied are following the assumptions from this work's \"Exploring Dataset\" section."
      ]
    },
    {
      "cell_type": "code",
      "execution_count": null,
      "metadata": {
        "id": "pR9cQWSDcyrb"
      },
      "outputs": [],
      "source": [
        "from pyspark.sql.functions import when, col"
      ]
    },
    {
      "cell_type": "code",
      "execution_count": null,
      "metadata": {
        "colab": {
          "base_uri": "https://localhost:8080/"
        },
        "id": "q_0gOecIqBSl",
        "outputId": "15863dde-2e15-4510-849a-06d7a07806a0"
      },
      "outputs": [
        {
          "output_type": "execute_result",
          "data": {
            "text/plain": [
              "750048"
            ]
          },
          "metadata": {},
          "execution_count": 256
        }
      ],
      "source": [
        "df_accidents.count()"
      ]
    },
    {
      "cell_type": "code",
      "execution_count": null,
      "metadata": {
        "colab": {
          "base_uri": "https://localhost:8080/"
        },
        "id": "1RkD2fABcU2I",
        "outputId": "bf35831a-5945-4d1e-af87-baf8a4358334"
      },
      "outputs": [
        {
          "output_type": "stream",
          "name": "stdout",
          "text": [
            "+--------+--------------+------------+----------------------------+-----------+\n",
            "|survived|tipo_envolvido|tipo_veiculo|tipo_acidente               |fase_dia   |\n",
            "+--------+--------------+------------+----------------------------+-----------+\n",
            "|Yes     |Condutor      |Motocicleta |Queda de ocupante de veículo|Plena Noite|\n",
            "|Yes     |Passageiro    |Automóvel   |Capotamento                 |Plena Noite|\n",
            "|Yes     |Condutor      |Automóvel   |Capotamento                 |Plena Noite|\n",
            "|Yes     |Condutor      |Automóvel   |Saída de leito carroçável   |Plena Noite|\n",
            "|Yes     |Condutor      |Automóvel   |Colisão traseira            |Plena Noite|\n",
            "|Yes     |Passageiro    |Automóvel   |Colisão traseira            |Plena Noite|\n",
            "|Yes     |Condutor      |Motocicleta |Atropelamento de Animal     |Plena Noite|\n",
            "|Yes     |Passageiro    |Motocicleta |Atropelamento de Animal     |Plena Noite|\n",
            "|Yes     |Passageiro    |Automóvel   |Colisão traseira            |Plena Noite|\n",
            "|Yes     |Passageiro    |Automóvel   |Colisão traseira            |Plena Noite|\n",
            "|Yes     |Condutor      |Automóvel   |Colisão traseira            |Plena Noite|\n",
            "|Yes     |Passageiro    |Automóvel   |Colisão traseira            |Plena Noite|\n",
            "|Yes     |Passageiro    |Automóvel   |Colisão traseira            |Plena Noite|\n",
            "|Yes     |Passageiro    |Motocicleta |Tombamento                  |Plena Noite|\n",
            "|Yes     |Condutor      |Motocicleta |Tombamento                  |Plena Noite|\n",
            "|Yes     |Condutor      |Caminhão    |Colisão traseira            |Plena Noite|\n",
            "|Yes     |Condutor      |Automóvel   |Colisão traseira            |Plena Noite|\n",
            "|Yes     |Condutor      |Automóvel   |Saída de leito carroçável   |Plena Noite|\n",
            "|Yes     |Condutor      |Automóvel   |Colisão com objeto estático |Plena Noite|\n",
            "|Yes     |Condutor      |Motocicleta |Colisão frontal             |Plena Noite|\n",
            "+--------+--------------+------------+----------------------------+-----------+\n",
            "only showing top 20 rows\n",
            "\n"
          ]
        }
      ],
      "source": [
        "df = df_accidents.join(df_people, df_accidents.pesid == df_people.pesid, \"left\") \\\n",
        "                 .join(df_vehicles, df_accidents.id_veiculo == df_vehicles.id_veiculo, \"left\") \\\n",
        "                 .where(\"tipo_envolvido not in ('Não Informado', 'Testemunha', 'Cavaleiro')\") \\\n",
        "                 .where(\"estado_fisico != 'Não Informado'\") \\\n",
        "                 .where(\"tipo_veiculo not in ('Trator de rodas', 'Carroça-charrete', 'Reboque', 'Triciclo', 'Não Informado', 'Trem-bonde', 'Carro de mão', 'Trator misto', 'Trator de esteira', 'Chassi-plataforma', 'Quadriciclo')\") \\\n",
        "                 .withColumn(\"survived\", when(col(\"estado_fisico\") == \"Óbito\", \"No\").otherwise(\"Yes\")) \\\n",
        "                 .select(\"survived\",\n",
        "                         \"tipo_envolvido\",\n",
        "                         \"tipo_veiculo\",\n",
        "                         \"tipo_acidente\",\n",
        "                        #  \"uf\",\n",
        "                        #  \"condicao_metereologica\",\n",
        "                         \"fase_dia\")\n",
        "\n",
        "df.show(truncate=False)"
      ]
    },
    {
      "cell_type": "code",
      "execution_count": null,
      "metadata": {
        "colab": {
          "base_uri": "https://localhost:8080/"
        },
        "id": "WFSwGCqlqEzl",
        "outputId": "bbb7b195-29c6-4ccd-8ede-59abc83239ee"
      },
      "outputs": [
        {
          "output_type": "execute_result",
          "data": {
            "text/plain": [
              "705289"
            ]
          },
          "metadata": {},
          "execution_count": 258
        }
      ],
      "source": [
        "df.count()"
      ]
    },
    {
      "cell_type": "markdown",
      "metadata": {
        "id": "uuYLUmbB5lo5"
      },
      "source": [
        "### Creating Label and Features Columns"
      ]
    },
    {
      "cell_type": "code",
      "execution_count": null,
      "metadata": {
        "id": "dCtAdi__gcnl"
      },
      "outputs": [],
      "source": [
        "from pyspark.ml import Pipeline\n",
        "from pyspark.ml.feature import VectorAssembler, OneHotEncoder, StringIndexer"
      ]
    },
    {
      "cell_type": "code",
      "execution_count": null,
      "metadata": {
        "id": "l6esfd9RiFeV"
      },
      "outputs": [],
      "source": [
        "label_index = StringIndexer(inputCol=\"survived\", outputCol=\"label\")\n",
        "involved_type_index = StringIndexer(inputCol=\"tipo_envolvido\", outputCol=\"indexedInvolvedType\")\n",
        "vehicle_type_index = StringIndexer(inputCol=\"tipo_veiculo\", outputCol=\"indexedVehicleType\")\n",
        "accident_type_index = StringIndexer(inputCol=\"tipo_acidente\", outputCol=\"indexedAccidentType\")\n",
        "# federal_unit_index = StringIndexer(inputCol=\"uf\", outputCol=\"indexedFederalUnit\")\n",
        "# climate_condition_index = StringIndexer(inputCol=\"condicao_metereologica\", outputCol=\"indexedClimateCondition\")\n",
        "day_phase_index = StringIndexer(inputCol=\"fase_dia\", outputCol=\"indexedDayPhase\")"
      ]
    },
    {
      "cell_type": "code",
      "execution_count": null,
      "metadata": {
        "id": "ADPNmEuh7LNU"
      },
      "outputs": [],
      "source": [
        "encoder = OneHotEncoder(inputCols=[\"indexedInvolvedType\",\n",
        "                                   \"indexedVehicleType\",\n",
        "                                   \"indexedAccidentType\",\n",
        "                                  #  \"indexedFederalUnit\",\n",
        "                                  #  \"indexedClimateCondition\",\n",
        "                                   \"indexedDayPhase\"],\n",
        "                        outputCols=[\"vec_InvolvedType\",\n",
        "                                    \"vec_VehicleType\",\n",
        "                                    \"vec_AccidentType\",\n",
        "                                    # \"vec_FederalUnit\",\n",
        "                                    # \"vec_ClimateCondition\",\n",
        "                                    \"vec_DayPhase\"],\n",
        "                        dropLast=False)"
      ]
    },
    {
      "cell_type": "code",
      "execution_count": null,
      "metadata": {
        "id": "T3nmxRc-7NIO"
      },
      "outputs": [],
      "source": [
        "assembler = VectorAssembler(inputCols=[\"vec_InvolvedType\",\n",
        "                                       \"vec_VehicleType\",\n",
        "                                       \"vec_AccidentType\",\n",
        "                                      #  \"vec_FederalUnit\",\n",
        "                                      #  \"vec_ClimateCondition\",\n",
        "                                       \"vec_DayPhase\"],\n",
        "                            outputCol=\"features\")"
      ]
    },
    {
      "cell_type": "code",
      "execution_count": null,
      "metadata": {
        "id": "8Ia0fU437Q80"
      },
      "outputs": [],
      "source": [
        "pipeline = Pipeline(stages=[label_index,\n",
        "                            involved_type_index,\n",
        "                            vehicle_type_index,\n",
        "                            accident_type_index,\n",
        "                            # federal_unit_index,\n",
        "                            # climate_condition_index,\n",
        "                            day_phase_index,\n",
        "                            encoder,\n",
        "                            assembler])"
      ]
    },
    {
      "cell_type": "code",
      "execution_count": null,
      "metadata": {
        "id": "NX4yFAovirpt"
      },
      "outputs": [],
      "source": [
        "prepared_df = pipeline.fit(df).transform(df)"
      ]
    },
    {
      "cell_type": "code",
      "execution_count": null,
      "metadata": {
        "colab": {
          "base_uri": "https://localhost:8080/"
        },
        "id": "xPcx0ao_nSH4",
        "outputId": "83a0e683-4783-4147-e797-d1e2a09457e8"
      },
      "outputs": [
        {
          "output_type": "stream",
          "name": "stdout",
          "text": [
            "+--------+-----+--------------+-------------------+----------------+------------+------------------+---------------+--------------------+-------------------+----------------+-----------+---------------+-------------+\n",
            "|survived|label|tipo_envolvido|indexedInvolvedType|vec_InvolvedType|tipo_veiculo|indexedVehicleType|vec_VehicleType|       tipo_acidente|indexedAccidentType|vec_AccidentType|   fase_dia|indexedDayPhase| vec_DayPhase|\n",
            "+--------+-----+--------------+-------------------+----------------+------------+------------------+---------------+--------------------+-------------------+----------------+-----------+---------------+-------------+\n",
            "|     Yes|  0.0|      Condutor|                0.0|   (3,[0],[1.0])| Motocicleta|               1.0| (14,[1],[1.0])|Queda de ocupante...|               10.0| (20,[10],[1.0])|Plena Noite|            1.0|(4,[1],[1.0])|\n",
            "|     Yes|  0.0|    Passageiro|                1.0|   (3,[1],[1.0])|   Automóvel|               0.0| (14,[0],[1.0])|         Capotamento|                8.0|  (20,[8],[1.0])|Plena Noite|            1.0|(4,[1],[1.0])|\n",
            "|     Yes|  0.0|      Condutor|                0.0|   (3,[0],[1.0])|   Automóvel|               0.0| (14,[0],[1.0])|         Capotamento|                8.0|  (20,[8],[1.0])|Plena Noite|            1.0|(4,[1],[1.0])|\n",
            "|     Yes|  0.0|      Condutor|                0.0|   (3,[0],[1.0])|   Automóvel|               0.0| (14,[0],[1.0])|Saída de leito ca...|                2.0|  (20,[2],[1.0])|Plena Noite|            1.0|(4,[1],[1.0])|\n",
            "|     Yes|  0.0|      Condutor|                0.0|   (3,[0],[1.0])|   Automóvel|               0.0| (14,[0],[1.0])|    Colisão traseira|                0.0|  (20,[0],[1.0])|Plena Noite|            1.0|(4,[1],[1.0])|\n",
            "|     Yes|  0.0|    Passageiro|                1.0|   (3,[1],[1.0])|   Automóvel|               0.0| (14,[0],[1.0])|    Colisão traseira|                0.0|  (20,[0],[1.0])|Plena Noite|            1.0|(4,[1],[1.0])|\n",
            "|     Yes|  0.0|      Condutor|                0.0|   (3,[0],[1.0])| Motocicleta|               1.0| (14,[1],[1.0])|Atropelamento de ...|               11.0| (20,[11],[1.0])|Plena Noite|            1.0|(4,[1],[1.0])|\n",
            "|     Yes|  0.0|    Passageiro|                1.0|   (3,[1],[1.0])| Motocicleta|               1.0| (14,[1],[1.0])|Atropelamento de ...|               11.0| (20,[11],[1.0])|Plena Noite|            1.0|(4,[1],[1.0])|\n",
            "|     Yes|  0.0|    Passageiro|                1.0|   (3,[1],[1.0])|   Automóvel|               0.0| (14,[0],[1.0])|    Colisão traseira|                0.0|  (20,[0],[1.0])|Plena Noite|            1.0|(4,[1],[1.0])|\n",
            "|     Yes|  0.0|    Passageiro|                1.0|   (3,[1],[1.0])|   Automóvel|               0.0| (14,[0],[1.0])|    Colisão traseira|                0.0|  (20,[0],[1.0])|Plena Noite|            1.0|(4,[1],[1.0])|\n",
            "|     Yes|  0.0|      Condutor|                0.0|   (3,[0],[1.0])|   Automóvel|               0.0| (14,[0],[1.0])|    Colisão traseira|                0.0|  (20,[0],[1.0])|Plena Noite|            1.0|(4,[1],[1.0])|\n",
            "|     Yes|  0.0|    Passageiro|                1.0|   (3,[1],[1.0])|   Automóvel|               0.0| (14,[0],[1.0])|    Colisão traseira|                0.0|  (20,[0],[1.0])|Plena Noite|            1.0|(4,[1],[1.0])|\n",
            "|     Yes|  0.0|    Passageiro|                1.0|   (3,[1],[1.0])|   Automóvel|               0.0| (14,[0],[1.0])|    Colisão traseira|                0.0|  (20,[0],[1.0])|Plena Noite|            1.0|(4,[1],[1.0])|\n",
            "|     Yes|  0.0|    Passageiro|                1.0|   (3,[1],[1.0])| Motocicleta|               1.0| (14,[1],[1.0])|          Tombamento|                5.0|  (20,[5],[1.0])|Plena Noite|            1.0|(4,[1],[1.0])|\n",
            "|     Yes|  0.0|      Condutor|                0.0|   (3,[0],[1.0])| Motocicleta|               1.0| (14,[1],[1.0])|          Tombamento|                5.0|  (20,[5],[1.0])|Plena Noite|            1.0|(4,[1],[1.0])|\n",
            "|     Yes|  0.0|      Condutor|                0.0|   (3,[0],[1.0])|    Caminhão|               4.0| (14,[4],[1.0])|    Colisão traseira|                0.0|  (20,[0],[1.0])|Plena Noite|            1.0|(4,[1],[1.0])|\n",
            "|     Yes|  0.0|      Condutor|                0.0|   (3,[0],[1.0])|   Automóvel|               0.0| (14,[0],[1.0])|    Colisão traseira|                0.0|  (20,[0],[1.0])|Plena Noite|            1.0|(4,[1],[1.0])|\n",
            "|     Yes|  0.0|      Condutor|                0.0|   (3,[0],[1.0])|   Automóvel|               0.0| (14,[0],[1.0])|Saída de leito ca...|                2.0|  (20,[2],[1.0])|Plena Noite|            1.0|(4,[1],[1.0])|\n",
            "|     Yes|  0.0|      Condutor|                0.0|   (3,[0],[1.0])|   Automóvel|               0.0| (14,[0],[1.0])|Colisão com objet...|                6.0|  (20,[6],[1.0])|Plena Noite|            1.0|(4,[1],[1.0])|\n",
            "|     Yes|  0.0|      Condutor|                0.0|   (3,[0],[1.0])| Motocicleta|               1.0| (14,[1],[1.0])|     Colisão frontal|                4.0|  (20,[4],[1.0])|Plena Noite|            1.0|(4,[1],[1.0])|\n",
            "+--------+-----+--------------+-------------------+----------------+------------+------------------+---------------+--------------------+-------------------+----------------+-----------+---------------+-------------+\n",
            "only showing top 20 rows\n",
            "\n"
          ]
        }
      ],
      "source": [
        "prepared_df.select(\"survived\", \"label\",\n",
        "                   \"tipo_envolvido\", \"indexedInvolvedType\", \"vec_InvolvedType\",\n",
        "                   \"tipo_veiculo\", \"indexedVehicleType\", \"vec_VehicleType\",\n",
        "                   \"tipo_acidente\", \"indexedAccidentType\", \"vec_AccidentType\",\n",
        "                  #  \"uf\", \"indexedFederalUnit\", \"vec_FederalUnit\",\n",
        "                  #  \"condicao_metereologica\", \"indexedClimateCondition\", \"vec_ClimateCondition\",\n",
        "                   \"fase_dia\", \"indexedDayPhase\", \"vec_DayPhase\") \\\n",
        "           .show()"
      ]
    },
    {
      "cell_type": "code",
      "execution_count": null,
      "metadata": {
        "colab": {
          "base_uri": "https://localhost:8080/"
        },
        "id": "DOWhbZinnUGA",
        "outputId": "ae415cda-acd8-47fe-ad32-fd69dadf76ce"
      },
      "outputs": [
        {
          "output_type": "stream",
          "name": "stdout",
          "text": [
            "Number of records in traingn dataset: 493122\n",
            "Number of records in test dataset: 212167\n"
          ]
        }
      ],
      "source": [
        "training_df, test_df = prepared_df.randomSplit([0.7, 0.3])\n",
        "\n",
        "print(f\"Number of records in traingn dataset: {training_df.count()}\")\n",
        "print(f\"Number of records in test dataset: {test_df.count()}\")"
      ]
    },
    {
      "cell_type": "markdown",
      "metadata": {
        "id": "5lgzv2Iu21Hr"
      },
      "source": [
        "## Training and Testing Models\n",
        "\n",
        "This section intends to use the prepared datasets to train and test a Logistic Regression model capable of predicting if a person involved in an accident survived or not. The indicators of the model and results obtained will be evaluated to understand the quality and how the model can be applied."
      ]
    },
    {
      "cell_type": "code",
      "execution_count": null,
      "metadata": {
        "id": "oWvuTe6K3D9l"
      },
      "outputs": [],
      "source": [
        "from pyspark.ml.classification import LogisticRegression\n",
        "from pyspark.ml.evaluation import BinaryClassificationEvaluator\n",
        "from sklearn.metrics import classification_report, confusion_matrix\n",
        "import matplotlib.pyplot as plt"
      ]
    },
    {
      "cell_type": "code",
      "execution_count": 334,
      "metadata": {
        "id": "1ZFC3LnAqUaK"
      },
      "outputs": [],
      "source": [
        "lr = LogisticRegression()\n",
        "evaluator = BinaryClassificationEvaluator()"
      ]
    },
    {
      "cell_type": "code",
      "execution_count": null,
      "metadata": {
        "id": "jb3dmLrVqWdv"
      },
      "outputs": [],
      "source": [
        "model = lr.fit(training_df)"
      ]
    },
    {
      "cell_type": "code",
      "execution_count": null,
      "metadata": {
        "colab": {
          "base_uri": "https://localhost:8080/"
        },
        "id": "vqXtLzsEr3l6",
        "outputId": "477602e1-755e-4f50-d9ab-5d0567f02fbb"
      },
      "outputs": [
        {
          "output_type": "stream",
          "name": "stdout",
          "text": [
            "Accuracy: 0.965375708242585\n",
            "True positive: [0.9994390744518371, 0.018454710039128658]\n",
            "False positive: [0.9815452899608713, 0.0005609255481629163]\n",
            "[0.9658768138157587, 0.5420240137221269]\n",
            "[0.9994390744518371, 0.018454710039128658]\n"
          ]
        }
      ],
      "source": [
        "summary = model.summary\n",
        "\n",
        "print(\"Accuracy: %s\" % str(summary.accuracy))\n",
        "print(\"True positive: %s\" % str(summary.truePositiveRateByLabel))\n",
        "print(\"False positive: %s\" % str(summary.falsePositiveRateByLabel))\n",
        "print(summary.precisionByLabel)\n",
        "print(summary.recallByLabel)"
      ]
    },
    {
      "cell_type": "code",
      "execution_count": null,
      "metadata": {
        "id": "xKWa4UJvs7J9"
      },
      "outputs": [],
      "source": [
        "roc = summary.roc.toPandas()"
      ]
    },
    {
      "cell_type": "code",
      "execution_count": null,
      "metadata": {
        "colab": {
          "base_uri": "https://localhost:8080/",
          "height": 472
        },
        "id": "3Geyll6u7ue7",
        "outputId": "1ffde4e2-9f65-4d51-d441-5fc330507159"
      },
      "outputs": [
        {
          "output_type": "display_data",
          "data": {
            "text/plain": [
              "<Figure size 640x480 with 1 Axes>"
            ],
            "image/png": "[encoded data removed]"
          },
          "metadata": {}
        }
      ],
      "source": [
        "plt.plot(roc['FPR'],roc['TPR'])\n",
        "plt.xlabel('False Positive Rate')\n",
        "plt.ylabel('True Positive Rate')\n",
        "plt.title('ROC Curve')\n",
        "plt.show()"
      ]
    },
    {
      "cell_type": "code",
      "execution_count": null,
      "metadata": {
        "id": "kUqcuiz4q1_8"
      },
      "outputs": [],
      "source": [
        "result_df = model.transform(test_df)"
      ]
    },
    {
      "cell_type": "code",
      "execution_count": null,
      "metadata": {
        "colab": {
          "base_uri": "https://localhost:8080/"
        },
        "id": "JUmmWu77K4-n",
        "outputId": "9ccaf64e-f599-4083-9124-4f6f7da8599f"
      },
      "outputs": [
        {
          "output_type": "stream",
          "name": "stdout",
          "text": [
            "+--------+--------------+------------+--------------------+-----------+-----+-------------------+------------------+-------------------+---------------+----------------+---------------+----------------+-------------+--------------------+--------------------+--------------------+----------+\n",
            "|survived|tipo_envolvido|tipo_veiculo|       tipo_acidente|   fase_dia|label|indexedInvolvedType|indexedVehicleType|indexedAccidentType|indexedDayPhase|vec_InvolvedType|vec_VehicleType|vec_AccidentType| vec_DayPhase|            features|       rawPrediction|         probability|prediction|\n",
            "+--------+--------------+------------+--------------------+-----------+-----+-------------------+------------------+-------------------+---------------+----------------+---------------+----------------+-------------+--------------------+--------------------+--------------------+----------+\n",
            "|      No|      Condutor|   Automóvel|Atropelamento de ...|Plena Noite|  1.0|                0.0|               0.0|               11.0|            1.0|   (3,[0],[1.0])| (14,[0],[1.0])| (20,[11],[1.0])|(4,[1],[1.0])|(41,[0,3,28,38],[...|[3.60311106766944...|[0.97348343218544...|       0.0|\n",
            "|      No|      Condutor|   Automóvel|Atropelamento de ...|Plena Noite|  1.0|                0.0|               0.0|               11.0|            1.0|   (3,[0],[1.0])| (14,[0],[1.0])| (20,[11],[1.0])|(4,[1],[1.0])|(41,[0,3,28,38],[...|[3.60311106766944...|[0.97348343218544...|       0.0|\n",
            "|      No|      Condutor|   Automóvel|Atropelamento de ...|Plena Noite|  1.0|                0.0|               0.0|               11.0|            1.0|   (3,[0],[1.0])| (14,[0],[1.0])| (20,[11],[1.0])|(4,[1],[1.0])|(41,[0,3,28,38],[...|[3.60311106766944...|[0.97348343218544...|       0.0|\n",
            "|      No|      Condutor|   Automóvel|Atropelamento de ...|Plena Noite|  1.0|                0.0|               0.0|               11.0|            1.0|   (3,[0],[1.0])| (14,[0],[1.0])| (20,[11],[1.0])|(4,[1],[1.0])|(41,[0,3,28,38],[...|[3.60311106766944...|[0.97348343218544...|       0.0|\n",
            "|      No|      Condutor|   Automóvel|Atropelamento de ...|Plena Noite|  1.0|                0.0|               0.0|                7.0|            1.0|   (3,[0],[1.0])| (14,[0],[1.0])|  (20,[7],[1.0])|(4,[1],[1.0])|(41,[0,3,24,38],[...|[3.88470054979561...|[0.97985997499197...|       0.0|\n",
            "|      No|      Condutor|   Automóvel|Atropelamento de ...|Plena Noite|  1.0|                0.0|               0.0|                7.0|            1.0|   (3,[0],[1.0])| (14,[0],[1.0])|  (20,[7],[1.0])|(4,[1],[1.0])|(41,[0,3,24,38],[...|[3.88470054979561...|[0.97985997499197...|       0.0|\n",
            "|      No|      Condutor|   Automóvel|Atropelamento de ...|  Pleno dia|  1.0|                0.0|               0.0|                7.0|            0.0|   (3,[0],[1.0])| (14,[0],[1.0])|  (20,[7],[1.0])|(4,[0],[1.0])|(41,[0,3,24,37],[...|[4.36887077248861...|[0.98749287466466...|       0.0|\n",
            "|      No|      Condutor|   Automóvel|Atropelamento de ...|  Pleno dia|  1.0|                0.0|               0.0|                7.0|            0.0|   (3,[0],[1.0])| (14,[0],[1.0])|  (20,[7],[1.0])|(4,[0],[1.0])|(41,[0,3,24,37],[...|[4.36887077248861...|[0.98749287466466...|       0.0|\n",
            "|      No|      Condutor|   Automóvel|Atropelamento de ...|  Pleno dia|  1.0|                0.0|               0.0|                7.0|            0.0|   (3,[0],[1.0])| (14,[0],[1.0])|  (20,[7],[1.0])|(4,[0],[1.0])|(41,[0,3,24,37],[...|[4.36887077248861...|[0.98749287466466...|       0.0|\n",
            "|      No|      Condutor|   Automóvel|         Capotamento|  Amanhecer|  1.0|                0.0|               0.0|                8.0|            3.0|   (3,[0],[1.0])| (14,[0],[1.0])|  (20,[8],[1.0])|(4,[3],[1.0])|(41,[0,3,25,40],[...|[3.29860640096231...|[0.96438097113097...|       0.0|\n",
            "|      No|      Condutor|   Automóvel|         Capotamento|  Anoitecer|  1.0|                0.0|               0.0|                8.0|            2.0|   (3,[0],[1.0])| (14,[0],[1.0])|  (20,[8],[1.0])|(4,[2],[1.0])|(41,[0,3,25,39],[...|[3.91404001059361...|[0.98043089296406...|       0.0|\n",
            "|      No|      Condutor|   Automóvel|         Capotamento|  Anoitecer|  1.0|                0.0|               0.0|                8.0|            2.0|   (3,[0],[1.0])| (14,[0],[1.0])|  (20,[8],[1.0])|(4,[2],[1.0])|(41,[0,3,25,39],[...|[3.91404001059361...|[0.98043089296406...|       0.0|\n",
            "|      No|      Condutor|   Automóvel|         Capotamento|Plena Noite|  1.0|                0.0|               0.0|                8.0|            1.0|   (3,[0],[1.0])| (14,[0],[1.0])|  (20,[8],[1.0])|(4,[1],[1.0])|(41,[0,3,25,38],[...|[3.47293178483863...|[0.96990770576681...|       0.0|\n",
            "|      No|      Condutor|   Automóvel|         Capotamento|Plena Noite|  1.0|                0.0|               0.0|                8.0|            1.0|   (3,[0],[1.0])| (14,[0],[1.0])|  (20,[8],[1.0])|(4,[1],[1.0])|(41,[0,3,25,38],[...|[3.47293178483863...|[0.96990770576681...|       0.0|\n",
            "|      No|      Condutor|   Automóvel|         Capotamento|Plena Noite|  1.0|                0.0|               0.0|                8.0|            1.0|   (3,[0],[1.0])| (14,[0],[1.0])|  (20,[8],[1.0])|(4,[1],[1.0])|(41,[0,3,25,38],[...|[3.47293178483863...|[0.96990770576681...|       0.0|\n",
            "|      No|      Condutor|   Automóvel|         Capotamento|Plena Noite|  1.0|                0.0|               0.0|                8.0|            1.0|   (3,[0],[1.0])| (14,[0],[1.0])|  (20,[8],[1.0])|(4,[1],[1.0])|(41,[0,3,25,38],[...|[3.47293178483863...|[0.96990770576681...|       0.0|\n",
            "|      No|      Condutor|   Automóvel|         Capotamento|Plena Noite|  1.0|                0.0|               0.0|                8.0|            1.0|   (3,[0],[1.0])| (14,[0],[1.0])|  (20,[8],[1.0])|(4,[1],[1.0])|(41,[0,3,25,38],[...|[3.47293178483863...|[0.96990770576681...|       0.0|\n",
            "|      No|      Condutor|   Automóvel|         Capotamento|Plena Noite|  1.0|                0.0|               0.0|                8.0|            1.0|   (3,[0],[1.0])| (14,[0],[1.0])|  (20,[8],[1.0])|(4,[1],[1.0])|(41,[0,3,25,38],[...|[3.47293178483863...|[0.96990770576681...|       0.0|\n",
            "|      No|      Condutor|   Automóvel|         Capotamento|Plena Noite|  1.0|                0.0|               0.0|                8.0|            1.0|   (3,[0],[1.0])| (14,[0],[1.0])|  (20,[8],[1.0])|(4,[1],[1.0])|(41,[0,3,25,38],[...|[3.47293178483863...|[0.96990770576681...|       0.0|\n",
            "|      No|      Condutor|   Automóvel|         Capotamento|Plena Noite|  1.0|                0.0|               0.0|                8.0|            1.0|   (3,[0],[1.0])| (14,[0],[1.0])|  (20,[8],[1.0])|(4,[1],[1.0])|(41,[0,3,25,38],[...|[3.47293178483863...|[0.96990770576681...|       0.0|\n",
            "+--------+--------------+------------+--------------------+-----------+-----+-------------------+------------------+-------------------+---------------+----------------+---------------+----------------+-------------+--------------------+--------------------+--------------------+----------+\n",
            "only showing top 20 rows\n",
            "\n"
          ]
        }
      ],
      "source": [
        "result_df.show()"
      ]
    },
    {
      "cell_type": "code",
      "execution_count": null,
      "metadata": {
        "id": "8zvqtfQarJYR"
      },
      "outputs": [],
      "source": [
        "y_true = result_df.select(['label']).collect()\n",
        "y_pred = result_df.select(['prediction']).collect()"
      ]
    },
    {
      "cell_type": "code",
      "execution_count": null,
      "metadata": {
        "colab": {
          "base_uri": "https://localhost:8080/"
        },
        "id": "YcqUiMipK9nC",
        "outputId": "75cfcb95-c4ba-4d1c-a563-581a6b968865"
      },
      "outputs": [
        {
          "output_type": "stream",
          "name": "stdout",
          "text": [
            "              precision    recall  f1-score   support\n",
            "\n",
            "         0.0       0.97      1.00      0.98    204755\n",
            "         1.0       0.54      0.02      0.04      7412\n",
            "\n",
            "    accuracy                           0.97    212167\n",
            "   macro avg       0.75      0.51      0.51    212167\n",
            "weighted avg       0.95      0.97      0.95    212167\n",
            "\n"
          ]
        }
      ],
      "source": [
        "print(classification_report(y_true, y_pred))"
      ]
    },
    {
      "cell_type": "code",
      "execution_count": null,
      "metadata": {
        "colab": {
          "base_uri": "https://localhost:8080/"
        },
        "id": "86lVnIl-983K",
        "outputId": "0cd66052-73e0-4a54-95f5-26665c7fddf3"
      },
      "outputs": [
        {
          "output_type": "stream",
          "name": "stdout",
          "text": [
            "[[204633    122]\n",
            " [  7267    145]]\n"
          ]
        }
      ],
      "source": [
        "print(confusion_matrix(y_true, y_pred))"
      ]
    },
    {
      "cell_type": "code",
      "execution_count": null,
      "metadata": {
        "colab": {
          "base_uri": "https://localhost:8080/"
        },
        "id": "NLN-Fc_kAWL8",
        "outputId": "eae7dff4-70a8-4683-f4f3-b0d72bb5af60"
      },
      "outputs": [
        {
          "output_type": "stream",
          "name": "stdout",
          "text": [
            "0.7931020044317897\n"
          ]
        }
      ],
      "source": [
        "roc = evaluator.evaluate(result_df)\n",
        "print(roc)"
      ]
    },
    {
      "cell_type": "markdown",
      "metadata": {
        "id": "1cb3JGnoVMeY"
      },
      "source": [
        "#### Model and Result evaluation\n",
        "\n",
        "The model that presented the best results is the one with type of people, type of vehicle, type of accident, and day phase as features.\n",
        "\n",
        "Although it present a high accuracy, is possible to notice that the precision, recall and f1-socre are only high for cases where the person survived. It happens because most of the cases in the training dataset are of people that survived.\n",
        "\n",
        "Precisely, the indicator with the lowest score is the recall for people who die. Therefore, the model wouldn't be a good fit if this measurement was the objective.\n",
        "\n",
        "The next sections will be dedicated to evaluate how different techniques can be applied to try to mitigate the effects of this inbalance and understand how it affects the model and results."
      ]
    },
    {
      "cell_type": "markdown",
      "metadata": {
        "id": "TjwCljSfJ4GT"
      },
      "source": [
        "### Oversampling\n",
        "\n",
        "This approach aims to solve the imbalance by oversampling the cases with fewer occurences in the trainign dataset, by the difference ratio between the possible values of the label. In the current scenario, random copies of cases where people died will be created."
      ]
    },
    {
      "cell_type": "code",
      "execution_count": 330,
      "metadata": {
        "id": "lFp35wkDLK25"
      },
      "outputs": [],
      "source": [
        "from pyspark.sql.functions import col, explode, array, lit"
      ]
    },
    {
      "cell_type": "code",
      "execution_count": 331,
      "metadata": {
        "colab": {
          "base_uri": "https://localhost:8080/"
        },
        "id": "Tg-cyG8872PN",
        "outputId": "a385a0f7-730d-4613-b3df-eea78e0386c6"
      },
      "outputs": [
        {
          "output_type": "stream",
          "name": "stdout",
          "text": [
            "ratio: 27\n"
          ]
        }
      ],
      "source": [
        "minor_df = training_df.filter(col(\"label\") == 1)\n",
        "major_df = training_df.filter(col(\"label\") == 0)\n",
        "\n",
        "ratio = int(major_df.count() / minor_df.count())\n",
        "\n",
        "print(f\"ratio: {ratio}\")"
      ]
    },
    {
      "cell_type": "code",
      "execution_count": 332,
      "metadata": {
        "colab": {
          "base_uri": "https://localhost:8080/"
        },
        "id": "QH7MVYUxKza6",
        "outputId": "4f0b18d7-837f-4a9c-c913-81ac4dde8b6d"
      },
      "outputs": [
        {
          "output_type": "stream",
          "name": "stdout",
          "text": [
            "+--------+--------------+------------+--------------------+---------+-----+-------------------+------------------+-------------------+---------------+----------------+---------------+----------------+-------------+--------------------+\n",
            "|survived|tipo_envolvido|tipo_veiculo|       tipo_acidente| fase_dia|label|indexedInvolvedType|indexedVehicleType|indexedAccidentType|indexedDayPhase|vec_InvolvedType|vec_VehicleType|vec_AccidentType| vec_DayPhase|            features|\n",
            "+--------+--------------+------------+--------------------+---------+-----+-------------------+------------------+-------------------+---------------+----------------+---------------+----------------+-------------+--------------------+\n",
            "|     Yes|      Condutor|   Automóvel|Atropelamento de ...|Amanhecer|  0.0|                0.0|               0.0|               11.0|            3.0|   (3,[0],[1.0])| (14,[0],[1.0])| (20,[11],[1.0])|(4,[3],[1.0])|(41,[0,3,28,40],[...|\n",
            "|     Yes|      Condutor|   Automóvel|Atropelamento de ...|Amanhecer|  0.0|                0.0|               0.0|               11.0|            3.0|   (3,[0],[1.0])| (14,[0],[1.0])| (20,[11],[1.0])|(4,[3],[1.0])|(41,[0,3,28,40],[...|\n",
            "|     Yes|      Condutor|   Automóvel|Atropelamento de ...|Amanhecer|  0.0|                0.0|               0.0|               11.0|            3.0|   (3,[0],[1.0])| (14,[0],[1.0])| (20,[11],[1.0])|(4,[3],[1.0])|(41,[0,3,28,40],[...|\n",
            "|     Yes|      Condutor|   Automóvel|Atropelamento de ...|Amanhecer|  0.0|                0.0|               0.0|               11.0|            3.0|   (3,[0],[1.0])| (14,[0],[1.0])| (20,[11],[1.0])|(4,[3],[1.0])|(41,[0,3,28,40],[...|\n",
            "|     Yes|      Condutor|   Automóvel|Atropelamento de ...|Amanhecer|  0.0|                0.0|               0.0|               11.0|            3.0|   (3,[0],[1.0])| (14,[0],[1.0])| (20,[11],[1.0])|(4,[3],[1.0])|(41,[0,3,28,40],[...|\n",
            "|     Yes|      Condutor|   Automóvel|Atropelamento de ...|Amanhecer|  0.0|                0.0|               0.0|               11.0|            3.0|   (3,[0],[1.0])| (14,[0],[1.0])| (20,[11],[1.0])|(4,[3],[1.0])|(41,[0,3,28,40],[...|\n",
            "|     Yes|      Condutor|   Automóvel|Atropelamento de ...|Amanhecer|  0.0|                0.0|               0.0|               11.0|            3.0|   (3,[0],[1.0])| (14,[0],[1.0])| (20,[11],[1.0])|(4,[3],[1.0])|(41,[0,3,28,40],[...|\n",
            "|     Yes|      Condutor|   Automóvel|Atropelamento de ...|Amanhecer|  0.0|                0.0|               0.0|               11.0|            3.0|   (3,[0],[1.0])| (14,[0],[1.0])| (20,[11],[1.0])|(4,[3],[1.0])|(41,[0,3,28,40],[...|\n",
            "|     Yes|      Condutor|   Automóvel|Atropelamento de ...|Amanhecer|  0.0|                0.0|               0.0|               11.0|            3.0|   (3,[0],[1.0])| (14,[0],[1.0])| (20,[11],[1.0])|(4,[3],[1.0])|(41,[0,3,28,40],[...|\n",
            "|     Yes|      Condutor|   Automóvel|Atropelamento de ...|Amanhecer|  0.0|                0.0|               0.0|               11.0|            3.0|   (3,[0],[1.0])| (14,[0],[1.0])| (20,[11],[1.0])|(4,[3],[1.0])|(41,[0,3,28,40],[...|\n",
            "|     Yes|      Condutor|   Automóvel|Atropelamento de ...|Amanhecer|  0.0|                0.0|               0.0|               11.0|            3.0|   (3,[0],[1.0])| (14,[0],[1.0])| (20,[11],[1.0])|(4,[3],[1.0])|(41,[0,3,28,40],[...|\n",
            "|     Yes|      Condutor|   Automóvel|Atropelamento de ...|Amanhecer|  0.0|                0.0|               0.0|               11.0|            3.0|   (3,[0],[1.0])| (14,[0],[1.0])| (20,[11],[1.0])|(4,[3],[1.0])|(41,[0,3,28,40],[...|\n",
            "|     Yes|      Condutor|   Automóvel|Atropelamento de ...|Amanhecer|  0.0|                0.0|               0.0|               11.0|            3.0|   (3,[0],[1.0])| (14,[0],[1.0])| (20,[11],[1.0])|(4,[3],[1.0])|(41,[0,3,28,40],[...|\n",
            "|     Yes|      Condutor|   Automóvel|Atropelamento de ...|Amanhecer|  0.0|                0.0|               0.0|               11.0|            3.0|   (3,[0],[1.0])| (14,[0],[1.0])| (20,[11],[1.0])|(4,[3],[1.0])|(41,[0,3,28,40],[...|\n",
            "|     Yes|      Condutor|   Automóvel|Atropelamento de ...|Amanhecer|  0.0|                0.0|               0.0|               11.0|            3.0|   (3,[0],[1.0])| (14,[0],[1.0])| (20,[11],[1.0])|(4,[3],[1.0])|(41,[0,3,28,40],[...|\n",
            "|     Yes|      Condutor|   Automóvel|Atropelamento de ...|Amanhecer|  0.0|                0.0|               0.0|               11.0|            3.0|   (3,[0],[1.0])| (14,[0],[1.0])| (20,[11],[1.0])|(4,[3],[1.0])|(41,[0,3,28,40],[...|\n",
            "|     Yes|      Condutor|   Automóvel|Atropelamento de ...|Amanhecer|  0.0|                0.0|               0.0|               11.0|            3.0|   (3,[0],[1.0])| (14,[0],[1.0])| (20,[11],[1.0])|(4,[3],[1.0])|(41,[0,3,28,40],[...|\n",
            "|     Yes|      Condutor|   Automóvel|Atropelamento de ...|Amanhecer|  0.0|                0.0|               0.0|               11.0|            3.0|   (3,[0],[1.0])| (14,[0],[1.0])| (20,[11],[1.0])|(4,[3],[1.0])|(41,[0,3,28,40],[...|\n",
            "|     Yes|      Condutor|   Automóvel|Atropelamento de ...|Amanhecer|  0.0|                0.0|               0.0|               11.0|            3.0|   (3,[0],[1.0])| (14,[0],[1.0])| (20,[11],[1.0])|(4,[3],[1.0])|(41,[0,3,28,40],[...|\n",
            "|     Yes|      Condutor|   Automóvel|Atropelamento de ...|Amanhecer|  0.0|                0.0|               0.0|               11.0|            3.0|   (3,[0],[1.0])| (14,[0],[1.0])| (20,[11],[1.0])|(4,[3],[1.0])|(41,[0,3,28,40],[...|\n",
            "+--------+--------------+------------+--------------------+---------+-----+-------------------+------------------+-------------------+---------------+----------------+---------------+----------------+-------------+--------------------+\n",
            "only showing top 20 rows\n",
            "\n"
          ]
        }
      ],
      "source": [
        "oversampled_minor_df = minor_df.withColumn(\"dummy\", explode(array([lit(x) for x in range(ratio)]))).drop(\"dummy\")\n",
        "\n",
        "oversampled_training_df = major_df.unionAll(oversampled_minor_df)\n",
        "oversampled_training_df.show()"
      ]
    },
    {
      "cell_type": "code",
      "execution_count": 335,
      "metadata": {
        "id": "1NwIIn0fM6PO"
      },
      "outputs": [],
      "source": [
        "oversampled_model = lr.fit(oversampled_training_df)"
      ]
    },
    {
      "cell_type": "code",
      "execution_count": 336,
      "metadata": {
        "colab": {
          "base_uri": "https://localhost:8080/"
        },
        "id": "LBH0l66AShwC",
        "outputId": "9bf10dc0-c650-4d52-8cd5-53ca6f7ec7eb"
      },
      "outputs": [
        {
          "output_type": "stream",
          "name": "stdout",
          "text": [
            "Accuracy: 0.721205378096758\n",
            "True positive: [0.7851303519018488, 0.6551703946597962]\n",
            "False positive: [0.3448296053402038, 0.21486964809815126]\n",
            "[0.701672292258073, 0.746945859943479]\n",
            "[0.7851303519018488, 0.6551703946597962]\n"
          ]
        }
      ],
      "source": [
        "oversampled_summary = oversampled_model.summary\n",
        "\n",
        "print(\"Accuracy: %s\" % str(oversampled_summary.accuracy))\n",
        "print(\"True positive: %s\" % str(oversampled_summary.truePositiveRateByLabel))\n",
        "print(\"False positive: %s\" % str(oversampled_summary.falsePositiveRateByLabel))\n",
        "print(oversampled_summary.precisionByLabel)\n",
        "print(oversampled_summary.recallByLabel)"
      ]
    },
    {
      "cell_type": "code",
      "execution_count": 337,
      "metadata": {
        "id": "aNkuR4LESs6p"
      },
      "outputs": [],
      "source": [
        "oversampled_roc = oversampled_summary.roc.toPandas()"
      ]
    },
    {
      "cell_type": "code",
      "execution_count": 338,
      "metadata": {
        "colab": {
          "base_uri": "https://localhost:8080/",
          "height": 472
        },
        "id": "2Whd_ErlSt-C",
        "outputId": "ae81767a-57f6-42e1-fffd-c506a97a2751"
      },
      "outputs": [
        {
          "output_type": "display_data",
          "data": {
            "text/plain": [
              "<Figure size 640x480 with 1 Axes>"
            ],
            "image/png": "[encoded data removed]"
          },
          "metadata": {}
        }
      ],
      "source": [
        "plt.plot(oversampled_roc['FPR'],oversampled_roc['TPR'])\n",
        "plt.xlabel('False Positive Rate')\n",
        "plt.ylabel('True Positive Rate')\n",
        "plt.title('ROC Curve')\n",
        "plt.show()"
      ]
    },
    {
      "cell_type": "code",
      "execution_count": 339,
      "metadata": {
        "id": "PM8e0H8gN3QG"
      },
      "outputs": [],
      "source": [
        "oversampled_result_df = oversampled_model.transform(test_df)"
      ]
    },
    {
      "cell_type": "code",
      "execution_count": 340,
      "metadata": {
        "colab": {
          "base_uri": "https://localhost:8080/"
        },
        "id": "9qzcuq8iM-9G",
        "outputId": "6d3230f0-1e18-4a44-b35c-2347565fa368"
      },
      "outputs": [
        {
          "output_type": "stream",
          "name": "stdout",
          "text": [
            "              precision    recall  f1-score   support\n",
            "\n",
            "         0.0       0.98      0.79      0.87    204755\n",
            "         1.0       0.10      0.66      0.17      7412\n",
            "\n",
            "    accuracy                           0.78    212167\n",
            "   macro avg       0.54      0.72      0.52    212167\n",
            "weighted avg       0.95      0.78      0.85    212167\n",
            "\n"
          ]
        }
      ],
      "source": [
        "y_true = oversampled_result_df.select(['label']).collect()\n",
        "y_pred = oversampled_result_df.select(['prediction']).collect()\n",
        "\n",
        "print(classification_report(y_true, y_pred))"
      ]
    },
    {
      "cell_type": "code",
      "execution_count": 341,
      "metadata": {
        "colab": {
          "base_uri": "https://localhost:8080/"
        },
        "id": "fiyEHoifNBCi",
        "outputId": "b7684c77-c912-4f71-ba42-597b206f1dfe"
      },
      "outputs": [
        {
          "output_type": "stream",
          "name": "stdout",
          "text": [
            "[[160784  43971]\n",
            " [  2547   4865]]\n"
          ]
        }
      ],
      "source": [
        "print(confusion_matrix(y_true, y_pred))"
      ]
    },
    {
      "cell_type": "code",
      "source": [
        "oversampled_roc = evaluator.evaluate(oversampled_result_df)\n",
        "print(oversampled_roc)"
      ],
      "metadata": {
        "colab": {
          "base_uri": "https://localhost:8080/"
        },
        "id": "qtGJmIaOnAX5",
        "outputId": "8507a7e9-3431-42d6-a706-4ed507221b23"
      },
      "execution_count": 342,
      "outputs": [
        {
          "output_type": "stream",
          "name": "stdout",
          "text": [
            "0.7955430899917336\n"
          ]
        }
      ]
    },
    {
      "cell_type": "markdown",
      "metadata": {
        "id": "PQdPa-6VR_Ix"
      },
      "source": [
        "### Undersampling\n",
        "\n",
        "This approach aims to solve the imbalance by undersampling the cases with more occurences in the trainign dataset, by the difference ratio between the possible values of the label. In the current scenario, a random sample of cases where people survived will be extracted."
      ]
    },
    {
      "cell_type": "code",
      "execution_count": 343,
      "metadata": {
        "id": "rp9cgdIENf4c",
        "colab": {
          "base_uri": "https://localhost:8080/"
        },
        "outputId": "b9168326-b363-46d1-ca38-08fddeccb6e6"
      },
      "outputs": [
        {
          "output_type": "stream",
          "name": "stdout",
          "text": [
            "+--------+--------------+------------+--------------------+-----------+-----+-------------------+------------------+-------------------+---------------+----------------+---------------+----------------+-------------+--------------------+\n",
            "|survived|tipo_envolvido|tipo_veiculo|       tipo_acidente|   fase_dia|label|indexedInvolvedType|indexedVehicleType|indexedAccidentType|indexedDayPhase|vec_InvolvedType|vec_VehicleType|vec_AccidentType| vec_DayPhase|            features|\n",
            "+--------+--------------+------------+--------------------+-----------+-----+-------------------+------------------+-------------------+---------------+----------------+---------------+----------------+-------------+--------------------+\n",
            "|     Yes|      Condutor|   Automóvel|Atropelamento de ...|  Amanhecer|  0.0|                0.0|               0.0|               11.0|            3.0|   (3,[0],[1.0])| (14,[0],[1.0])| (20,[11],[1.0])|(4,[3],[1.0])|(41,[0,3,28,40],[...|\n",
            "|     Yes|      Condutor|   Automóvel|Atropelamento de ...|  Amanhecer|  0.0|                0.0|               0.0|               11.0|            3.0|   (3,[0],[1.0])| (14,[0],[1.0])| (20,[11],[1.0])|(4,[3],[1.0])|(41,[0,3,28,40],[...|\n",
            "|     Yes|      Condutor|   Automóvel|Atropelamento de ...|  Amanhecer|  0.0|                0.0|               0.0|               11.0|            3.0|   (3,[0],[1.0])| (14,[0],[1.0])| (20,[11],[1.0])|(4,[3],[1.0])|(41,[0,3,28,40],[...|\n",
            "|     Yes|      Condutor|   Automóvel|Atropelamento de ...|  Amanhecer|  0.0|                0.0|               0.0|               11.0|            3.0|   (3,[0],[1.0])| (14,[0],[1.0])| (20,[11],[1.0])|(4,[3],[1.0])|(41,[0,3,28,40],[...|\n",
            "|     Yes|      Condutor|   Automóvel|Atropelamento de ...|  Amanhecer|  0.0|                0.0|               0.0|               11.0|            3.0|   (3,[0],[1.0])| (14,[0],[1.0])| (20,[11],[1.0])|(4,[3],[1.0])|(41,[0,3,28,40],[...|\n",
            "|     Yes|      Condutor|   Automóvel|Atropelamento de ...|Plena Noite|  0.0|                0.0|               0.0|               11.0|            1.0|   (3,[0],[1.0])| (14,[0],[1.0])| (20,[11],[1.0])|(4,[1],[1.0])|(41,[0,3,28,38],[...|\n",
            "|     Yes|      Condutor|   Automóvel|Atropelamento de ...|Plena Noite|  0.0|                0.0|               0.0|               11.0|            1.0|   (3,[0],[1.0])| (14,[0],[1.0])| (20,[11],[1.0])|(4,[1],[1.0])|(41,[0,3,28,38],[...|\n",
            "|     Yes|      Condutor|   Automóvel|Atropelamento de ...|Plena Noite|  0.0|                0.0|               0.0|               11.0|            1.0|   (3,[0],[1.0])| (14,[0],[1.0])| (20,[11],[1.0])|(4,[1],[1.0])|(41,[0,3,28,38],[...|\n",
            "|     Yes|      Condutor|   Automóvel|Atropelamento de ...|Plena Noite|  0.0|                0.0|               0.0|               11.0|            1.0|   (3,[0],[1.0])| (14,[0],[1.0])| (20,[11],[1.0])|(4,[1],[1.0])|(41,[0,3,28,38],[...|\n",
            "|     Yes|      Condutor|   Automóvel|Atropelamento de ...|Plena Noite|  0.0|                0.0|               0.0|               11.0|            1.0|   (3,[0],[1.0])| (14,[0],[1.0])| (20,[11],[1.0])|(4,[1],[1.0])|(41,[0,3,28,38],[...|\n",
            "|     Yes|      Condutor|   Automóvel|Atropelamento de ...|Plena Noite|  0.0|                0.0|               0.0|               11.0|            1.0|   (3,[0],[1.0])| (14,[0],[1.0])| (20,[11],[1.0])|(4,[1],[1.0])|(41,[0,3,28,38],[...|\n",
            "|     Yes|      Condutor|   Automóvel|Atropelamento de ...|Plena Noite|  0.0|                0.0|               0.0|               11.0|            1.0|   (3,[0],[1.0])| (14,[0],[1.0])| (20,[11],[1.0])|(4,[1],[1.0])|(41,[0,3,28,38],[...|\n",
            "|     Yes|      Condutor|   Automóvel|Atropelamento de ...|Plena Noite|  0.0|                0.0|               0.0|               11.0|            1.0|   (3,[0],[1.0])| (14,[0],[1.0])| (20,[11],[1.0])|(4,[1],[1.0])|(41,[0,3,28,38],[...|\n",
            "|     Yes|      Condutor|   Automóvel|Atropelamento de ...|Plena Noite|  0.0|                0.0|               0.0|               11.0|            1.0|   (3,[0],[1.0])| (14,[0],[1.0])| (20,[11],[1.0])|(4,[1],[1.0])|(41,[0,3,28,38],[...|\n",
            "|     Yes|      Condutor|   Automóvel|Atropelamento de ...|Plena Noite|  0.0|                0.0|               0.0|               11.0|            1.0|   (3,[0],[1.0])| (14,[0],[1.0])| (20,[11],[1.0])|(4,[1],[1.0])|(41,[0,3,28,38],[...|\n",
            "|     Yes|      Condutor|   Automóvel|Atropelamento de ...|Plena Noite|  0.0|                0.0|               0.0|               11.0|            1.0|   (3,[0],[1.0])| (14,[0],[1.0])| (20,[11],[1.0])|(4,[1],[1.0])|(41,[0,3,28,38],[...|\n",
            "|     Yes|      Condutor|   Automóvel|Atropelamento de ...|Plena Noite|  0.0|                0.0|               0.0|               11.0|            1.0|   (3,[0],[1.0])| (14,[0],[1.0])| (20,[11],[1.0])|(4,[1],[1.0])|(41,[0,3,28,38],[...|\n",
            "|     Yes|      Condutor|   Automóvel|Atropelamento de ...|Plena Noite|  0.0|                0.0|               0.0|               11.0|            1.0|   (3,[0],[1.0])| (14,[0],[1.0])| (20,[11],[1.0])|(4,[1],[1.0])|(41,[0,3,28,38],[...|\n",
            "|     Yes|      Condutor|   Automóvel|Atropelamento de ...|Plena Noite|  0.0|                0.0|               0.0|               11.0|            1.0|   (3,[0],[1.0])| (14,[0],[1.0])| (20,[11],[1.0])|(4,[1],[1.0])|(41,[0,3,28,38],[...|\n",
            "|     Yes|      Condutor|   Automóvel|Atropelamento de ...|Plena Noite|  0.0|                0.0|               0.0|               11.0|            1.0|   (3,[0],[1.0])| (14,[0],[1.0])| (20,[11],[1.0])|(4,[1],[1.0])|(41,[0,3,28,38],[...|\n",
            "+--------+--------------+------------+--------------------+-----------+-----+-------------------+------------------+-------------------+---------------+----------------+---------------+----------------+-------------+--------------------+\n",
            "only showing top 20 rows\n",
            "\n"
          ]
        }
      ],
      "source": [
        "undersampled_major_df = major_df.sample(False, 1/ratio)\n",
        "undersampled_training_df = undersampled_major_df.unionAll(minor_df)\n",
        "\n",
        "undersampled_training_df.show()"
      ]
    },
    {
      "cell_type": "code",
      "execution_count": 344,
      "metadata": {
        "id": "seA3jXFcSV21"
      },
      "outputs": [],
      "source": [
        "undersampled_model = lr.fit(undersampled_training_df)"
      ]
    },
    {
      "cell_type": "code",
      "execution_count": 345,
      "metadata": {
        "id": "yx6jh0uJTIw2",
        "colab": {
          "base_uri": "https://localhost:8080/"
        },
        "outputId": "49c204ee-f38e-4f93-9c1b-20e8576ec5b3"
      },
      "outputs": [
        {
          "output_type": "stream",
          "name": "stdout",
          "text": [
            "Accuracy: 0.7240307400051809\n",
            "True positive: [0.7892442683272006, 0.6565757114416207]\n",
            "False positive: [0.3434242885583792, 0.21075573167279932]\n",
            "[0.7038925632352199, 0.7507364756293519]\n",
            "[0.7892442683272006, 0.6565757114416207]\n"
          ]
        }
      ],
      "source": [
        "undersampled_summary = undersampled_model.summary\n",
        "\n",
        "print(\"Accuracy: %s\" % str(undersampled_summary.accuracy))\n",
        "print(\"True positive: %s\" % str(undersampled_summary.truePositiveRateByLabel))\n",
        "print(\"False positive: %s\" % str(undersampled_summary.falsePositiveRateByLabel))\n",
        "print(undersampled_summary.precisionByLabel)\n",
        "print(undersampled_summary.recallByLabel)"
      ]
    },
    {
      "cell_type": "code",
      "execution_count": 346,
      "metadata": {
        "id": "ZZPQDyTSTIw7"
      },
      "outputs": [],
      "source": [
        "undersampled_roc = undersampled_summary.roc.toPandas()"
      ]
    },
    {
      "cell_type": "code",
      "execution_count": 347,
      "metadata": {
        "id": "kqp_HYAuTIw8",
        "colab": {
          "base_uri": "https://localhost:8080/",
          "height": 472
        },
        "outputId": "bd43362a-9f6a-464d-b3bb-b14a04d0c5b3"
      },
      "outputs": [
        {
          "output_type": "display_data",
          "data": {
            "text/plain": [
              "<Figure size 640x480 with 1 Axes>"
            ],
            "image/png": "[encoded data removed]"
          },
          "metadata": {}
        }
      ],
      "source": [
        "plt.plot(undersampled_roc['FPR'],undersampled_roc['TPR'])\n",
        "plt.xlabel('False Positive Rate')\n",
        "plt.ylabel('True Positive Rate')\n",
        "plt.title('ROC Curve')\n",
        "plt.show()"
      ]
    },
    {
      "cell_type": "code",
      "execution_count": 348,
      "metadata": {
        "id": "0_uVsC4BSgcl"
      },
      "outputs": [],
      "source": [
        "undersampled_result_df = undersampled_model.transform(test_df)"
      ]
    },
    {
      "cell_type": "code",
      "execution_count": 349,
      "metadata": {
        "id": "9mtdg2EvSkFv",
        "colab": {
          "base_uri": "https://localhost:8080/"
        },
        "outputId": "68f5d640-283f-489f-9ba3-ed2bec91c140"
      },
      "outputs": [
        {
          "output_type": "stream",
          "name": "stdout",
          "text": [
            "              precision    recall  f1-score   support\n",
            "\n",
            "         0.0       0.98      0.78      0.87    204755\n",
            "         1.0       0.10      0.66      0.17      7412\n",
            "\n",
            "    accuracy                           0.78    212167\n",
            "   macro avg       0.54      0.72      0.52    212167\n",
            "weighted avg       0.95      0.78      0.85    212167\n",
            "\n"
          ]
        }
      ],
      "source": [
        "y_true = undersampled_result_df.select(['label']).collect()\n",
        "y_pred = undersampled_result_df.select(['prediction']).collect()\n",
        "\n",
        "print(classification_report(y_true, y_pred))"
      ]
    },
    {
      "cell_type": "code",
      "execution_count": 350,
      "metadata": {
        "id": "kolGQQMcSmR8",
        "colab": {
          "base_uri": "https://localhost:8080/"
        },
        "outputId": "116a0003-47a0-4d2e-8123-4c20637db5c1"
      },
      "outputs": [
        {
          "output_type": "stream",
          "name": "stdout",
          "text": [
            "[[160519  44236]\n",
            " [  2539   4873]]\n"
          ]
        }
      ],
      "source": [
        "print(confusion_matrix(y_true, y_pred))"
      ]
    },
    {
      "cell_type": "code",
      "source": [
        "undersampled_roc = evaluator.evaluate(undersampled_result_df)\n",
        "print(undersampled_roc)"
      ],
      "metadata": {
        "colab": {
          "base_uri": "https://localhost:8080/"
        },
        "id": "TMiiTgdnnJyI",
        "outputId": "6576a198-2c5d-4384-a743-1d617b2b14ad"
      },
      "execution_count": 351,
      "outputs": [
        {
          "output_type": "stream",
          "name": "stdout",
          "text": [
            "0.7955154286967651\n"
          ]
        }
      ]
    },
    {
      "cell_type": "markdown",
      "metadata": {
        "id": "bJwoDVkhm8hQ"
      },
      "source": [
        "### Weighting\n",
        "\n",
        "This approach aims to solve the imbalance by assigning weights to the labels based on the frequency of their occurencies. The label with higher frequency receives a lower weight and the one with lower frequency a higher weight.\n"
      ]
    },
    {
      "cell_type": "code",
      "source": [
        "ratio = minor_df.count() / training_df.count()\n",
        "\n",
        "ratio"
      ],
      "metadata": {
        "id": "nV2IH2F1lMOn",
        "colab": {
          "base_uri": "https://localhost:8080/"
        },
        "outputId": "39a364db-7f79-42e0-9030-d8d8532da832"
      },
      "execution_count": 352,
      "outputs": [
        {
          "output_type": "execute_result",
          "data": {
            "text/plain": [
              "0.034723658648366934"
            ]
          },
          "metadata": {},
          "execution_count": 352
        }
      ]
    },
    {
      "cell_type": "code",
      "execution_count": 353,
      "metadata": {
        "id": "r8po-2E_Yq2X",
        "colab": {
          "base_uri": "https://localhost:8080/"
        },
        "outputId": "e561f9aa-7a48-4b5b-9add-4f03307d89c5"
      },
      "outputs": [
        {
          "output_type": "stream",
          "name": "stdout",
          "text": [
            "+-----+--------------------+------------------+\n",
            "|label|            features|            weight|\n",
            "+-----+--------------------+------------------+\n",
            "|  1.0|(41,[0,3,28,40],[...|0.9652763413516331|\n",
            "|  1.0|(41,[0,3,28,40],[...|0.9652763413516331|\n",
            "|  1.0|(41,[0,3,28,40],[...|0.9652763413516331|\n",
            "|  1.0|(41,[0,3,28,38],[...|0.9652763413516331|\n",
            "|  1.0|(41,[0,3,28,38],[...|0.9652763413516331|\n",
            "|  1.0|(41,[0,3,28,38],[...|0.9652763413516331|\n",
            "|  1.0|(41,[0,3,28,38],[...|0.9652763413516331|\n",
            "|  1.0|(41,[0,3,28,38],[...|0.9652763413516331|\n",
            "|  1.0|(41,[0,3,24,40],[...|0.9652763413516331|\n",
            "|  1.0|(41,[0,3,24,38],[...|0.9652763413516331|\n",
            "|  1.0|(41,[0,3,24,38],[...|0.9652763413516331|\n",
            "|  1.0|(41,[0,3,24,38],[...|0.9652763413516331|\n",
            "|  1.0|(41,[0,3,24,38],[...|0.9652763413516331|\n",
            "|  1.0|(41,[0,3,24,38],[...|0.9652763413516331|\n",
            "|  1.0|(41,[0,3,24,37],[...|0.9652763413516331|\n",
            "|  1.0|(41,[0,3,24,37],[...|0.9652763413516331|\n",
            "|  1.0|(41,[0,3,24,37],[...|0.9652763413516331|\n",
            "|  1.0|(41,[0,3,25,40],[...|0.9652763413516331|\n",
            "|  1.0|(41,[0,3,25,40],[...|0.9652763413516331|\n",
            "|  1.0|(41,[0,3,25,39],[...|0.9652763413516331|\n",
            "+-----+--------------------+------------------+\n",
            "only showing top 20 rows\n",
            "\n"
          ]
        }
      ],
      "source": [
        "weighted_df = training_df.withColumn(\"weight\", when(col(\"label\") == 1, 1 - ratio).otherwise(ratio))\n",
        "\n",
        "weighted_df.select(\"label\", \"features\", \"weight\").show()"
      ]
    },
    {
      "cell_type": "code",
      "execution_count": 354,
      "metadata": {
        "id": "hYIw3Faxn4tu"
      },
      "outputs": [],
      "source": [
        "weighted_model = lr.setWeightCol(\"weight\").fit(weighted_df)"
      ]
    },
    {
      "cell_type": "code",
      "execution_count": 355,
      "metadata": {
        "id": "i-Z7Rd1Eons0",
        "colab": {
          "base_uri": "https://localhost:8080/"
        },
        "outputId": "bbd6612e-3c04-454f-af9f-31779159aa2d"
      },
      "outputs": [
        {
          "output_type": "stream",
          "name": "stdout",
          "text": [
            "Accuracy: 0.719141197237061\n",
            "True positive: [0.780512143933787, 0.6577702505401918]\n",
            "False positive: [0.34222974945980816, 0.2194878560662131]\n",
            "[0.6951839496922757, 0.7498024191356095]\n",
            "[0.780512143933787, 0.6577702505401918]\n"
          ]
        }
      ],
      "source": [
        "weighted_summary = weighted_model.summary\n",
        "\n",
        "print(\"Accuracy: %s\" % str(weighted_summary.accuracy))\n",
        "print(\"True positive: %s\" % str(weighted_summary.truePositiveRateByLabel))\n",
        "print(\"False positive: %s\" % str(weighted_summary.falsePositiveRateByLabel))\n",
        "print(weighted_summary.precisionByLabel)\n",
        "print(weighted_summary.recallByLabel)"
      ]
    },
    {
      "cell_type": "code",
      "execution_count": 356,
      "metadata": {
        "id": "rEmlkfr4oKF9"
      },
      "outputs": [],
      "source": [
        "weighted_roc = weighted_summary.roc.toPandas()"
      ]
    },
    {
      "cell_type": "code",
      "execution_count": 357,
      "metadata": {
        "id": "zFycMn9VowqA",
        "colab": {
          "base_uri": "https://localhost:8080/",
          "height": 472
        },
        "outputId": "a549c5fe-f2af-4d77-9cc4-0daac73d0822"
      },
      "outputs": [
        {
          "output_type": "display_data",
          "data": {
            "text/plain": [
              "<Figure size 640x480 with 1 Axes>"
            ],
            "image/png": "[encoded data removed]"
          },
          "metadata": {}
        }
      ],
      "source": [
        "plt.plot(weighted_roc['FPR'],weighted_roc['TPR'])\n",
        "plt.xlabel('False Positive Rate')\n",
        "plt.ylabel('True Positive Rate')\n",
        "plt.title('ROC Curve')\n",
        "plt.show()"
      ]
    },
    {
      "cell_type": "code",
      "execution_count": 358,
      "metadata": {
        "id": "V6EywOUQo0Fk"
      },
      "outputs": [],
      "source": [
        "weighted_result_df = weighted_model.transform(test_df)"
      ]
    },
    {
      "cell_type": "code",
      "execution_count": 359,
      "metadata": {
        "id": "OI4HCSklqIBa",
        "colab": {
          "base_uri": "https://localhost:8080/"
        },
        "outputId": "bd9c4b91-74d8-4f56-b300-ddc244b8e81b"
      },
      "outputs": [
        {
          "output_type": "stream",
          "name": "stdout",
          "text": [
            "              precision    recall  f1-score   support\n",
            "\n",
            "         0.0       0.98      0.78      0.87    204755\n",
            "         1.0       0.10      0.66      0.17      7412\n",
            "\n",
            "    accuracy                           0.78    212167\n",
            "   macro avg       0.54      0.72      0.52    212167\n",
            "weighted avg       0.95      0.78      0.85    212167\n",
            "\n"
          ]
        }
      ],
      "source": [
        "y_true = weighted_result_df.select(['label']).collect()\n",
        "y_pred = weighted_result_df.select(['prediction']).collect()\n",
        "\n",
        "print(classification_report(y_true, y_pred))"
      ]
    },
    {
      "cell_type": "code",
      "execution_count": 360,
      "metadata": {
        "id": "A0D0JP_xqLHj",
        "colab": {
          "base_uri": "https://localhost:8080/"
        },
        "outputId": "56d0cb2c-3716-44e3-8c50-d92113f9b3fd"
      },
      "outputs": [
        {
          "output_type": "stream",
          "name": "stdout",
          "text": [
            "[[159714  45041]\n",
            " [  2510   4902]]\n"
          ]
        }
      ],
      "source": [
        "print(confusion_matrix(y_true, y_pred))"
      ]
    },
    {
      "cell_type": "code",
      "source": [
        "weighted_roc = evaluator.evaluate(weighted_result_df)\n",
        "print(weighted_roc)"
      ],
      "metadata": {
        "id": "G81D7yMWnQye",
        "colab": {
          "base_uri": "https://localhost:8080/"
        },
        "outputId": "aad51eee-e067-42d4-8369-fff83ed5bf21"
      },
      "execution_count": 361,
      "outputs": [
        {
          "output_type": "stream",
          "name": "stdout",
          "text": [
            "0.7952170998514625\n"
          ]
        }
      ]
    },
    {
      "cell_type": "markdown",
      "source": [
        "### Inbalance treatment techniques evaluation\n",
        "\n",
        "All different techniques presented similar results. When compared to the original model, they've presented an increase of the recall and f1-score for death cases, in exchange of a decrese in the accuracy, precision for death cases, and recall and f1-score for survival cases.\n",
        "\n",
        "For scenarios where a good recall indicator for death cases is necessary, these models would be a better fit than the original one."
      ],
      "metadata": {
        "id": "8xQPsGYAnzWs"
      }
    },
    {
      "cell_type": "markdown",
      "metadata": {
        "id": "_eRLxbXbGL_k"
      },
      "source": [
        "## Future Work\n",
        "\n",
        "For future work, there are two options to highlight:\n",
        "1. Test different attributes of the dataset and how they affect the model and results.\n",
        "2. Try to implement feature seelction algorithms to understand how they affect the model and results."
      ]
    }
  ],
  "metadata": {
    "colab": {
      "provenance": [],
      "authorship_tag": "ABX9TyODrLFdbu5V68xbcAYWvcGX",
      "include_colab_link": true
    },
    "kernelspec": {
      "display_name": "Python 3",
      "name": "python3"
    },
    "language_info": {
      "name": "python"
    }
  },
  "nbformat": 4,
  "nbformat_minor": 0
}